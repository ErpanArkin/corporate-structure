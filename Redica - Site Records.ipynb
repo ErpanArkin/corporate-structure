{
 "cells": [
  {
   "cell_type": "code",
   "execution_count": 16,
   "metadata": {},
   "outputs": [],
   "source": [
    "import numpy as np\n",
    "import matplotlib.pyplot as plt"
   ]
  },
  {
   "cell_type": "markdown",
   "metadata": {},
   "source": [
    "# Corporates Structure\n",
    "Image a corporate has many organizations, and each organization operates on many sites. A site is characterized by its name, uid, address, and a site have multiple of those can be used to refer to the same site. A site also has a parent organization that it belongs to. Lets build up a corporate structure to implement all of this."
   ]
  },
  {
   "cell_type": "markdown",
   "metadata": {},
   "source": [
    "The link to the mindmap of the overview of the tree:\n",
    "https://miro.com/app/board/o9J_lTBj874=/"
   ]
  },
  {
   "cell_type": "code",
   "execution_count": 17,
   "metadata": {},
   "outputs": [],
   "source": [
    "class Site():\n",
    "    \n",
    "    '''\n",
    "    A site object with different attributes\n",
    "    '''\n",
    "    \n",
    "    def __init__(self):\n",
    "        \n",
    "        self.name = [] # list of names belongs to the same site\n",
    "        self.id = None # unique site id in the corps\n",
    "        self.uid = []  # list of uid belong to the same site\n",
    "        self.parent = None # the parent org of the site\n",
    "        self.parent_id = None # unique org id in the corps\n",
    "        self.address = [] # list of addresses belongs to the same site\n",
    "    \n",
    "    def add_name(self,name):\n",
    "        '''\n",
    "        add name to the name list\n",
    "        '''\n",
    "        if name.isalnum() and name not in self.name:\n",
    "            self.name.append(name)\n",
    "            \n",
    "    def add_uid(self,uid):\n",
    "        '''\n",
    "        add uid to the uid list\n",
    "        '''\n",
    "        if uid.isalnum() and uid not in self.uid:\n",
    "            self.uid.append(uid)\n",
    "            \n",
    "    def add_address(self,address):\n",
    "        '''\n",
    "        add address to the address list\n",
    "        '''\n",
    "        if address.isalnum() and address not in self.address:\n",
    "            self.address.append(address)\n",
    "    \n",
    "    def process(self, record):\n",
    "        \n",
    "        '''\n",
    "        process record entry to initilize the site info\n",
    "        '''\n",
    "        \n",
    "        name, org, uid, address = list(map(lambda x:x.strip(),record.split(',')))\n",
    "        \n",
    "        self.add_name(name)\n",
    "        self.parent = org\n",
    "        self.add_uid(uid)\n",
    "        self.add_address(address)\n",
    "        \n",
    "    def get_site_info(self):\n",
    "        \n",
    "        '''\n",
    "        return all site infor for debugging\n",
    "        '''\n",
    "        \n",
    "        return self.name,self.id,self.uid,self.parent,self.parent_id,self.address"
   ]
  },
  {
   "cell_type": "code",
   "execution_count": 18,
   "metadata": {},
   "outputs": [],
   "source": [
    "class Organization():\n",
    "    \n",
    "    '''\n",
    "    An organization object with different attributes and site children\n",
    "    '''\n",
    "    \n",
    "    def __init__(self):\n",
    "        \n",
    "        self.org_id = None # unique org id in the corps\n",
    "        self.name = [] # list of names belong to the same org\n",
    "        self.address = [] # list of addresses belongs to the same org\n",
    "        self.children_ids = set() # a set of children sites\n",
    "    \n",
    "    def add_name(self,name):\n",
    "        if name.isalnum() and name not in self.name:\n",
    "            self.name.append(name)\n",
    "    \n",
    "    def add_address(self,address):\n",
    "        if address.isalnum() and address not in self.address:\n",
    "            self.address.append(address)\n",
    "        \n",
    "    def add_site(self,site_id):\n",
    "        if site_id not in self.children_ids:\n",
    "            self.children_ids.add(site_id)\n",
    "        \n",
    "    def get_site(self):\n",
    "        return self.children_ids"
   ]
  },
  {
   "cell_type": "code",
   "execution_count": 19,
   "metadata": {},
   "outputs": [],
   "source": [
    "class Corporates():\n",
    "    \n",
    "    def __init__(self):\n",
    "        \n",
    "        '''\n",
    "        A few look up dictionary for fast check if the new site exists\n",
    "        '''\n",
    "        \n",
    "        # all organs names list refers to their organ internal id\n",
    "        self.organ_names = {'NoName':0}\n",
    "        \n",
    "        # all sites names list refers to site internal id\n",
    "        self.site_names = {}\n",
    "        \n",
    "        # all sites uids list refers to site internal id\n",
    "        self.site_uids = {}\n",
    "        \n",
    "        # all sites addresses list refers to site internal id\n",
    "        self.site_addresses = {}\n",
    "        \n",
    "        # number of sites in the corp\n",
    "        self.number_of_sites = 0\n",
    "        \n",
    "        # number of organs in the corp\n",
    "        self.number_of_orgs = 0\n",
    "        \n",
    "        # store all site instances\n",
    "        self.sites = {}\n",
    "        \n",
    "        # create an org for new sites without org info\n",
    "        noname_org = Organization()\n",
    "        noname_org.org_id = 0\n",
    "        noname_org.name = 'NoName'\n",
    "        \n",
    "        # store all orgs instances\n",
    "        self.organs = {0:noname_org}\n",
    "    \n",
    "    def add_site(self,site):\n",
    "        \n",
    "        # parse site info\n",
    "        site_name = site.name[0] if site.name else ''\n",
    "        site_uid = site.uid[0] if site.uid else ''\n",
    "        site_address = site.address[0] if site.address else ''\n",
    "        \n",
    "        # check if the site name or uid can be used to find if the site exists\n",
    "        if site_name.isalnum() and site_name in self.site_names:\n",
    "            site.id = self.site_names[site_name] \n",
    "\n",
    "        elif site_uid.isalnum() and site_uid in self.site_uids:\n",
    "            site.id = self.site_uids[site_uid] \n",
    "        \n",
    "        # if this is a new site \n",
    "        if not site.id:\n",
    "            site.id = self.number_of_sites = self.number_of_sites + 1\n",
    "            \n",
    "            # if this new site has organization info\n",
    "            if site.parent.isalnum():\n",
    "\n",
    "                # check if the org name exists\n",
    "                if site.parent in self.organ_names:\n",
    "                    site.parent_id = self.organ_names[site.parent] \n",
    "\n",
    "                # not found, create a new org\n",
    "                if not site.parent_id:       \n",
    "                    site.parent_id = self.number_of_orgs = self.number_of_orgs + 1\n",
    "                    \n",
    "                    self.organ_names[site.parent] = site.parent_id\n",
    "                    organ = Organization()\n",
    "                    organ.org_id = site.parent_id\n",
    "\n",
    "                else:\n",
    "                    # if exist, retrive the organizatio object\n",
    "                    organ = self.organs[site.parent_id]\n",
    "                    \n",
    "                organ.add_name(site.parent)\n",
    "                \n",
    "            # a new site doesn't provide organization name    \n",
    "            else:\n",
    "                \n",
    "                organ = self.organs[0]\n",
    "                organ.children_ids.add(site.id)\n",
    "                self.organs[organ.org_id] = organ\n",
    "            \n",
    "            # update organization's site list\n",
    "            organ.add_site(site.id)\n",
    "            \n",
    "            # update corp's organ list\n",
    "            self.organs[organ.org_id] = organ\n",
    "            \n",
    "            # update corp' site list\n",
    "            self.sites[site.id] = site\n",
    "            \n",
    "        else:\n",
    "            old_site = self.sites[site.id]\n",
    "            old_site.add_name(site_name)\n",
    "            old_site.add_uid(site_uid)\n",
    "            old_site.add_address(site_address)\n",
    "            self.sites[site.id] = old_site\n",
    "                \n",
    "            \n",
    "        # update corp's sites look up info\n",
    "        if site_name.isalnum():\n",
    "            self.site_names[site_name] = site.id \n",
    "        if site_uid.isalnum():\n",
    "            self.site_uids[site_uid] = site.id\n",
    "        if site_address.isalnum():\n",
    "            self.site_addresses[site_address] = site.id\n",
    "    \n",
    "    def get_info(self):\n",
    "        \n",
    "        return self.organ_names,self.site_names,self.site_uids,self.site_addresses,self.number_of_sites,self.number_of_orgs"
   ]
  },
  {
   "cell_type": "code",
   "execution_count": 20,
   "metadata": {
    "scrolled": true
   },
   "outputs": [
    {
     "name": "stdout",
     "output_type": "stream",
     "text": [
      "organization: NoName\n",
      "sites: [['a1b2']]\n",
      "sites uids: [['10001']]\n",
      "sites addresses: [['YYY']]\n",
      "\n",
      "organization: ['abc']\n",
      "sites: [['a1b1', 'a1b4', 'a1b5']]\n",
      "sites uids: [['10000']]\n",
      "sites addresses: [['XXX', 'ZZZ', 'SSS', 'TTT']]\n",
      "\n",
      "organization: ['bca']\n",
      "sites: [['a1b3'], ['a1b7']]\n",
      "sites uids: [['10002'], ['10003']]\n",
      "sites addresses: [[], ['QQQ']]\n",
      "\n"
     ]
    }
   ],
   "source": [
    "# site name, org name, site uid, site address\n",
    "sites_records = [\n",
    "'a1b1,abc,10000,XXX',\n",
    "'a1b2,   ,10001,YYY',\n",
    "'a1b3,bca,10002,   ',\n",
    "'a1b4,   ,10000,ZZZ',\n",
    "'a1b5,cba,10000,   ',\n",
    "'    ,   ,10000,SSS',\n",
    "'a1b1,   ,     ,TTT',\n",
    "'a1b7,bca,10003,QQQ'\n",
    "]\n",
    "\n",
    "# sites_records = [\n",
    "#     'a1b1, abc, 10000, ABC',\n",
    "#     'a1b2, abc , 10001, BCA']\n",
    "\n",
    "corps = Corporates()\n",
    "\n",
    "for record in sites_records:\n",
    "\n",
    "    current_site = Site()\n",
    "    current_site.process(record)\n",
    "    # print(current_site.get_site_info())\n",
    "    corps.add_site(current_site)\n",
    "    # print(corps.get_info())\n",
    "\n",
    "for org in corps.organs.values():\n",
    "    print(f'organization: {org.name}')\n",
    "    sites = org.get_site()\n",
    "    print(f'sites: {[corps.sites[site].name for site in sites]}')\n",
    "    print(f'sites uids: {[corps.sites[site].uid for site in sites]}')\n",
    "    print(f'sites addresses: {[corps.sites[site].address for site in sites]}')\n",
    "    print('')"
   ]
  },
  {
   "attachments": {
    "image.png": {
     "image/png": "[encoded data removed]"
    }
   },
   "cell_type": "markdown",
   "metadata": {},
   "source": [
    "![image.png](attachment:image.png)"
   ]
  },
  {
   "cell_type": "markdown",
   "metadata": {},
   "source": [
    "## insert new record to existing corporate"
   ]
  },
  {
   "cell_type": "code",
   "execution_count": 21,
   "metadata": {},
   "outputs": [
    {
     "name": "stdout",
     "output_type": "stream",
     "text": [
      "organization: NoName\n",
      "sites: [['a1b2']]\n",
      "sites uids: [['10001']]\n",
      "sites addresses: [['YYY']]\n",
      "\n",
      "organization: ['abc']\n",
      "sites: [['a1b1', 'a1b4', 'a1b5']]\n",
      "sites uids: [['10000']]\n",
      "sites addresses: [['XXX', 'ZZZ', 'SSS', 'TTT']]\n",
      "\n",
      "organization: ['bca']\n",
      "sites: [['a1b3', 'a1b8'], ['a1b7']]\n",
      "sites uids: [['10002'], ['10003']]\n",
      "sites addresses: [['HHH'], ['QQQ']]\n",
      "\n"
     ]
    }
   ],
   "source": [
    "record = 'a1b8, bbb, 10002, HHH'\n",
    "\n",
    "current_site = Site()\n",
    "current_site.process(record)\n",
    "corps.add_site(current_site)\n",
    "\n",
    "for org in corps.organs.values():\n",
    "    print(f'organization: {org.name}')\n",
    "    sites = org.get_site()\n",
    "    print(f'sites: {[corps.sites[site].name for site in sites]}')\n",
    "    print(f'sites uids: {[corps.sites[site].uid for site in sites]}')\n",
    "    print(f'sites addresses: {[corps.sites[site].address for site in sites]}')\n",
    "    print('')"
   ]
  },
  {
   "cell_type": "markdown",
   "metadata": {},
   "source": [
    "## export corporation to a pickle file"
   ]
  },
  {
   "cell_type": "code",
   "execution_count": 22,
   "metadata": {},
   "outputs": [],
   "source": [
    "import pickle"
   ]
  },
  {
   "cell_type": "code",
   "execution_count": 23,
   "metadata": {},
   "outputs": [],
   "source": [
    "pickle.dump(corps, open('my_corp.pickle','wb'))"
   ]
  },
  {
   "cell_type": "code",
   "execution_count": 24,
   "metadata": {},
   "outputs": [],
   "source": [
    "new_corps = pickle.load(open('my_corp.pickle','rb'))"
   ]
  },
  {
   "cell_type": "code",
   "execution_count": 25,
   "metadata": {},
   "outputs": [
    {
     "name": "stdout",
     "output_type": "stream",
     "text": [
      "organization: NoName\n",
      "sites: [['a1b2']]\n",
      "sites uids: [['10001']]\n",
      "sites addresses: [['YYY']]\n",
      "\n",
      "organization: ['abc']\n",
      "sites: [['a1b1', 'a1b4', 'a1b5']]\n",
      "sites uids: [['10000']]\n",
      "sites addresses: [['XXX', 'ZZZ', 'SSS', 'TTT']]\n",
      "\n",
      "organization: ['bca']\n",
      "sites: [['a1b3', 'a1b8'], ['a1b7']]\n",
      "sites uids: [['10002'], ['10003']]\n",
      "sites addresses: [['HHH'], ['QQQ']]\n",
      "\n"
     ]
    }
   ],
   "source": [
    "for org in corps.organs.values():\n",
    "    print(f'organization: {org.name}')\n",
    "    sites = org.get_site()\n",
    "    print(f'sites: {[corps.sites[site].name for site in sites]}')\n",
    "    print(f'sites uids: {[corps.sites[site].uid for site in sites]}')\n",
    "    print(f'sites addresses: {[corps.sites[site].address for site in sites]}')\n",
    "    print('')"
   ]
  },
  {
   "cell_type": "code",
   "execution_count": null,
   "metadata": {},
   "outputs": [],
   "source": []
  }
 ],
 "metadata": {
  "kernelspec": {
   "display_name": "Python 3",
   "language": "python",
   "name": "python3"
  },
  "language_info": {
   "codemirror_mode": {
    "name": "ipython",
    "version": 3
   },
   "file_extension": ".py",
   "mimetype": "text/x-python",
   "name": "python",
   "nbconvert_exporter": "python",
   "pygments_lexer": "ipython3",
   "version": "3.9.1"
  }
 },
 "nbformat": 4,
 "nbformat_minor": 4
}
